{
 "cells": [
  {
   "cell_type": "code",
   "execution_count": 1,
   "metadata": {},
   "outputs": [
    {
     "name": "stdout",
     "output_type": "stream",
     "text": [
      "\u001b[0;31mInit signature:\u001b[0m\n",
      "\u001b[0mCosineDecay\u001b[0m\u001b[0;34m(\u001b[0m\u001b[0;34m\u001b[0m\n",
      "\u001b[0;34m\u001b[0m    \u001b[0minitial_learning_rate\u001b[0m\u001b[0;34m,\u001b[0m\u001b[0;34m\u001b[0m\n",
      "\u001b[0;34m\u001b[0m    \u001b[0mdecay_steps\u001b[0m\u001b[0;34m,\u001b[0m\u001b[0;34m\u001b[0m\n",
      "\u001b[0;34m\u001b[0m    \u001b[0malpha\u001b[0m\u001b[0;34m=\u001b[0m\u001b[0;36m0.0\u001b[0m\u001b[0;34m,\u001b[0m\u001b[0;34m\u001b[0m\n",
      "\u001b[0;34m\u001b[0m    \u001b[0mname\u001b[0m\u001b[0;34m=\u001b[0m\u001b[0;34m'CosineDecay'\u001b[0m\u001b[0;34m,\u001b[0m\u001b[0;34m\u001b[0m\n",
      "\u001b[0;34m\u001b[0m    \u001b[0mwarmup_target\u001b[0m\u001b[0;34m=\u001b[0m\u001b[0;32mNone\u001b[0m\u001b[0;34m,\u001b[0m\u001b[0;34m\u001b[0m\n",
      "\u001b[0;34m\u001b[0m    \u001b[0mwarmup_steps\u001b[0m\u001b[0;34m=\u001b[0m\u001b[0;36m0\u001b[0m\u001b[0;34m,\u001b[0m\u001b[0;34m\u001b[0m\n",
      "\u001b[0;34m\u001b[0m\u001b[0;34m)\u001b[0m\u001b[0;34m\u001b[0m\u001b[0;34m\u001b[0m\u001b[0m\n",
      "\u001b[0;31mDocstring:\u001b[0m     \n",
      "A `LearningRateSchedule` that uses a cosine decay with optional warmup.\n",
      "\n",
      "See [Loshchilov & Hutter, ICLR2016](https://arxiv.org/abs/1608.03983),\n",
      "SGDR: Stochastic Gradient Descent with Warm Restarts.\n",
      "\n",
      "For the idea of a linear warmup of our learning rate,\n",
      "see [Goyal et al.](https://arxiv.org/pdf/1706.02677.pdf).\n",
      "\n",
      "When we begin training a model, we often want an initial increase in our\n",
      "learning rate followed by a decay. If `warmup_target` is an int, this\n",
      "schedule applies a linear increase per optimizer step to our learning rate\n",
      "from `initial_learning_rate` to `warmup_target` for a duration of\n",
      "`warmup_steps`. Afterwards, it applies a cosine decay function taking our\n",
      "learning rate from `warmup_target` to `alpha` for a duration of\n",
      "`decay_steps`. If `warmup_target` is None we skip warmup and our decay\n",
      "will take our learning rate from `initial_learning_rate` to `alpha`.\n",
      "It requires a `step` value to  compute the learning rate. You can\n",
      "just pass a backend variable that you increment at each training step.\n",
      "\n",
      "The schedule is a 1-arg callable that produces a warmup followed by a\n",
      "decayed learning rate when passed the current optimizer step. This can be\n",
      "useful for changing the learning rate value across different invocations of\n",
      "optimizer functions.\n",
      "\n",
      "Our warmup is computed as:\n",
      "\n",
      "```python\n",
      "def warmup_learning_rate(step):\n",
      "    completed_fraction = step / warmup_steps\n",
      "    total_delta = target_warmup - initial_learning_rate\n",
      "    return completed_fraction * total_delta\n",
      "```\n",
      "\n",
      "And our decay is computed as:\n",
      "\n",
      "```python\n",
      "if warmup_target is None:\n",
      "    initial_decay_lr = initial_learning_rate\n",
      "else:\n",
      "    initial_decay_lr = warmup_target\n",
      "\n",
      "def decayed_learning_rate(step):\n",
      "    step = min(step, decay_steps)\n",
      "    cosine_decay = 0.5 * (1 + cos(pi * step / decay_steps))\n",
      "    decayed = (1 - alpha) * cosine_decay + alpha\n",
      "    return initial_decay_lr * decayed\n",
      "```\n",
      "\n",
      "Example usage without warmup:\n",
      "\n",
      "```python\n",
      "decay_steps = 1000\n",
      "initial_learning_rate = 0.1\n",
      "lr_decayed_fn = keras.optimizers.schedules.CosineDecay(\n",
      "    initial_learning_rate, decay_steps)\n",
      "```\n",
      "\n",
      "Example usage with warmup:\n",
      "\n",
      "```python\n",
      "decay_steps = 1000\n",
      "initial_learning_rate = 0\n",
      "warmup_steps = 1000\n",
      "target_learning_rate = 0.1\n",
      "lr_warmup_decayed_fn = keras.optimizers.schedules.CosineDecay(\n",
      "    initial_learning_rate, decay_steps, warmup_target=target_learning_rate,\n",
      "    warmup_steps=warmup_steps\n",
      ")\n",
      "```\n",
      "\n",
      "You can pass this schedule directly into a `keras.optimizers.Optimizer`\n",
      "as the learning rate. The learning rate schedule is also serializable and\n",
      "deserializable using `keras.optimizers.schedules.serialize` and\n",
      "`keras.optimizers.schedules.deserialize`.\n",
      "\n",
      "Args:\n",
      "    initial_learning_rate: A Python float. The initial learning rate.\n",
      "    decay_steps: A Python int. Number of steps to decay over.\n",
      "    alpha: A Python float. Minimum learning rate value for decay as a\n",
      "        fraction of `initial_learning_rate`.\n",
      "    name: String. Optional name of the operation.  Defaults to\n",
      "        `\"CosineDecay\"`.\n",
      "    warmup_target: A Python float. The target learning rate for our\n",
      "        warmup phase. Will cast to the `initial_learning_rate` datatype.\n",
      "        Setting to `None` will skip warmup and begins decay phase from\n",
      "        `initial_learning_rate`. Otherwise scheduler will warmup from\n",
      "        `initial_learning_rate` to `warmup_target`.\n",
      "    warmup_steps: A Python int. Number of steps to warmup over.\n",
      "\n",
      "Returns:\n",
      "    A 1-arg callable learning rate schedule that takes the current optimizer\n",
      "    step and outputs the decayed learning rate, a scalar tensor of the\n",
      "    same type as `initial_learning_rate`.\n",
      "\u001b[0;31mFile:\u001b[0m           /app/conda/envs/collegium/lib/python3.10/site-packages/keras/src/optimizers/schedules/learning_rate_schedule.py\n",
      "\u001b[0;31mType:\u001b[0m           type\n",
      "\u001b[0;31mSubclasses:\u001b[0m     "
     ]
    }
   ],
   "source": [
    "from keras.optimizers.schedules import CosineDecay\n",
    "?CosineDecay"
   ]
  },
  {
   "cell_type": "code",
   "execution_count": 2,
   "metadata": {},
   "outputs": [
    {
     "name": "stdout",
     "output_type": "stream",
     "text": [
      "Terminal learning rate a[-1]=0.000100000005\n"
     ]
    },
    {
     "data": {
      "image/png": "[encoded data removed]",
      "text/plain": [
       "<Figure size 640x480 with 1 Axes>"
      ]
     },
     "metadata": {},
     "output_type": "display_data"
    }
   ],
   "source": [
    "import numpy as np\n",
    "import matplotlib.pyplot as plt\n",
    "\n",
    "sc = CosineDecay(0.001, decay_steps=50, alpha=0.1)\n",
    "s = range(100)\n",
    "a = np.array([\n",
    "    sc(i)\n",
    "    for i in s\n",
    "])\n",
    "plt.plot(s, a)\n",
    "print(f'Terminal learning rate {a[-1]=}')"
   ]
  }
 ],
 "metadata": {
  "kernelspec": {
   "display_name": "collegium",
   "language": "python",
   "name": "python3"
  },
  "language_info": {
   "codemirror_mode": {
    "name": "ipython",
    "version": 3
   },
   "file_extension": ".py",
   "mimetype": "text/x-python",
   "name": "python",
   "nbconvert_exporter": "python",
   "pygments_lexer": "ipython3",
   "version": "3.10.8"
  }
 },
 "nbformat": 4,
 "nbformat_minor": 2
}

{
 "cells": [
  {
   "cell_type": "code",
   "execution_count": 1,
   "metadata": {},
   "outputs": [],
   "source": [
    "# In this course, the SageMaker is pre-configured with MLflow integration.\n",
    "# The MLflow server can be accessed via Python API or via the browser using the launch tab.\n",
    "import mlflow"
   ]
  },
  {
   "cell_type": "code",
   "execution_count": 2,
   "metadata": {},
   "outputs": [],
   "source": [
    "# MLFlow data model is fairly simple.\n",
    "# An experiment is a set of runs that are related.\n",
    "# A run has static params, time-variable metrics, and artifacts.\n",
    "\n",
    "# In a typical ML workflow, an ML project is a single experiment.\n",
    "# Within an experiment, each run corresponds to an ML model.\n",
    "# A run's params are used to record hyperparams that distinguish different models.\n",
    "# After each epoch, the model's metrics are logged to have a time series."
   ]
  },
  {
   "cell_type": "code",
   "execution_count": 3,
   "metadata": {},
   "outputs": [
    {
     "data": {
      "text/plain": [
       "<Experiment: artifact_location='file:///app/mlflow/828221325841870602', creation_time=1694401973406, experiment_id='828221325841870602', last_update_time=1694401973406, lifecycle_stage='active', name='my_project', tags={}>"
      ]
     },
     "execution_count": 3,
     "metadata": {},
     "output_type": "execute_result"
    }
   ],
   "source": [
    "# The current experiment can be changed for the duration of the session.\n",
    "# All runs in this notebook will be grouped under this experiment.\n",
    "mlflow.set_experiment(\"my_project\")"
   ]
  },
  {
   "cell_type": "code",
   "execution_count": 4,
   "metadata": {},
   "outputs": [],
   "source": [
    "# Use start_run to start a run and end_run to end it.\n",
    "# The run will stay active until explicitly ended.\n",
    "\n",
    "# Simple example:\n",
    "mlflow.start_run()\n",
    "\n",
    "# ... train a model ...\n",
    "\n",
    "# This is important.\n",
    "mlflow.end_run()"
   ]
  },
  {
   "cell_type": "code",
   "execution_count": 5,
   "metadata": {},
   "outputs": [],
   "source": [
    "# It's a lot more convenient to use a context manager to end the run.\n",
    "\n",
    "with mlflow.start_run():\n",
    "    # Params are various (hyper-)parameters of a model\n",
    "    # that need to be recorded for analysis and reproduction.\n",
    "    # These dimensions can be used later to aggregate results.\n",
    "    mlflow.log_params({\n",
    "        'learning_rate': 0.1, \n",
    "        'alpha': 1\n",
    "    })\n",
    "    \n",
    "    # Metrics describe the performance of a model during\n",
    "    # and after training. The same metric can be logged\n",
    "    # multiple times -- typically after each epoch.\n",
    "    for i in range(10):\n",
    "        import random\n",
    "        mlflow.log_metrics({\n",
    "            'cross_entropy': random.uniform(-5, 5), \n",
    "            'mean_squared_error': random.uniform(0, 10),\n",
    "        }, step=i)\n",
    "        \n",
    "    # Artifact is any file that needs to be saved.\n",
    "    # Typically, these are learned model parameters\n",
    "    # and other training artifacts that are need to load \n",
    "    # the model at a later time.\n",
    "    # In this example, we are simply uploading this notebook.\n",
    "    mlflow.log_artifact(\"MLFlow.ipynb\")"
   ]
  },
  {
   "cell_type": "code",
   "execution_count": 6,
   "metadata": {},
   "outputs": [
    {
     "data": {
      "text/html": [
       "<div>\n",
       "<style scoped>\n",
       "    .dataframe tbody tr th:only-of-type {\n",
       "        vertical-align: middle;\n",
       "    }\n",
       "\n",
       "    .dataframe tbody tr th {\n",
       "        vertical-align: top;\n",
       "    }\n",
       "\n",
       "    .dataframe thead th {\n",
       "        text-align: right;\n",
       "    }\n",
       "</style>\n",
       "<table border=\"1\" class=\"dataframe\">\n",
       "  <thead>\n",
       "    <tr style=\"text-align: right;\">\n",
       "      <th>run_id</th>\n",
       "      <th>f7639f92c4b74572979169e01ca0bc09</th>\n",
       "      <th>080623df455947ee8dd4fa9887a74ef1</th>\n",
       "      <th>97bd9087cddf4ea480da352c6a4f053f</th>\n",
       "      <th>8e006bba23db418fa97c1bc9e6efc735</th>\n",
       "    </tr>\n",
       "  </thead>\n",
       "  <tbody>\n",
       "    <tr>\n",
       "      <th>experiment_id</th>\n",
       "      <td>828221325841870602</td>\n",
       "      <td>828221325841870602</td>\n",
       "      <td>828221325841870602</td>\n",
       "      <td>828221325841870602</td>\n",
       "    </tr>\n",
       "    <tr>\n",
       "      <th>status</th>\n",
       "      <td>FINISHED</td>\n",
       "      <td>FINISHED</td>\n",
       "      <td>FINISHED</td>\n",
       "      <td>FINISHED</td>\n",
       "    </tr>\n",
       "    <tr>\n",
       "      <th>artifact_uri</th>\n",
       "      <td>file:///app/mlflow/828221325841870602/f7639f92...</td>\n",
       "      <td>file:///app/mlflow/828221325841870602/080623df...</td>\n",
       "      <td>file:///app/mlflow/828221325841870602/97bd9087...</td>\n",
       "      <td>file:///app/mlflow/828221325841870602/8e006bba...</td>\n",
       "    </tr>\n",
       "    <tr>\n",
       "      <th>start_time</th>\n",
       "      <td>2023-09-11 03:20:12.908000+00:00</td>\n",
       "      <td>2023-09-11 03:20:12.897000+00:00</td>\n",
       "      <td>2023-09-11 03:12:53.488000+00:00</td>\n",
       "      <td>2023-09-11 03:12:53.477000+00:00</td>\n",
       "    </tr>\n",
       "    <tr>\n",
       "      <th>end_time</th>\n",
       "      <td>2023-09-11 03:20:12.921000+00:00</td>\n",
       "      <td>2023-09-11 03:20:12.902000+00:00</td>\n",
       "      <td>2023-09-11 03:12:53.502000+00:00</td>\n",
       "      <td>2023-09-11 03:12:53.482000+00:00</td>\n",
       "    </tr>\n",
       "    <tr>\n",
       "      <th>metrics.cross_entropy</th>\n",
       "      <td>-1.242358</td>\n",
       "      <td>NaN</td>\n",
       "      <td>-4.896372</td>\n",
       "      <td>NaN</td>\n",
       "    </tr>\n",
       "    <tr>\n",
       "      <th>metrics.mean_squared_error</th>\n",
       "      <td>7.034021</td>\n",
       "      <td>NaN</td>\n",
       "      <td>4.425403</td>\n",
       "      <td>NaN</td>\n",
       "    </tr>\n",
       "    <tr>\n",
       "      <th>params.alpha</th>\n",
       "      <td>1</td>\n",
       "      <td>None</td>\n",
       "      <td>1</td>\n",
       "      <td>None</td>\n",
       "    </tr>\n",
       "    <tr>\n",
       "      <th>params.learning_rate</th>\n",
       "      <td>0.1</td>\n",
       "      <td>None</td>\n",
       "      <td>0.1</td>\n",
       "      <td>None</td>\n",
       "    </tr>\n",
       "    <tr>\n",
       "      <th>tags.mlflow.runName</th>\n",
       "      <td>glamorous-sow-493</td>\n",
       "      <td>rebellious-bee-148</td>\n",
       "      <td>hilarious-hawk-119</td>\n",
       "      <td>ambitious-bug-448</td>\n",
       "    </tr>\n",
       "    <tr>\n",
       "      <th>tags.mlflow.source.name</th>\n",
       "      <td>/app/miniconda/envs/collegium/lib/python3.10/s...</td>\n",
       "      <td>/app/miniconda/envs/collegium/lib/python3.10/s...</td>\n",
       "      <td>/app/miniconda/envs/collegium/lib/python3.10/s...</td>\n",
       "      <td>/app/miniconda/envs/collegium/lib/python3.10/s...</td>\n",
       "    </tr>\n",
       "    <tr>\n",
       "      <th>tags.mlflow.user</th>\n",
       "      <td>user</td>\n",
       "      <td>user</td>\n",
       "      <td>user</td>\n",
       "      <td>user</td>\n",
       "    </tr>\n",
       "    <tr>\n",
       "      <th>tags.mlflow.source.type</th>\n",
       "      <td>LOCAL</td>\n",
       "      <td>LOCAL</td>\n",
       "      <td>LOCAL</td>\n",
       "      <td>LOCAL</td>\n",
       "    </tr>\n",
       "  </tbody>\n",
       "</table>\n",
       "</div>"
      ],
      "text/plain": [
       "run_id                                       f7639f92c4b74572979169e01ca0bc09  \\\n",
       "experiment_id                                              828221325841870602   \n",
       "status                                                               FINISHED   \n",
       "artifact_uri                file:///app/mlflow/828221325841870602/f7639f92...   \n",
       "start_time                                   2023-09-11 03:20:12.908000+00:00   \n",
       "end_time                                     2023-09-11 03:20:12.921000+00:00   \n",
       "metrics.cross_entropy                                               -1.242358   \n",
       "metrics.mean_squared_error                                           7.034021   \n",
       "params.alpha                                                                1   \n",
       "params.learning_rate                                                      0.1   \n",
       "tags.mlflow.runName                                         glamorous-sow-493   \n",
       "tags.mlflow.source.name     /app/miniconda/envs/collegium/lib/python3.10/s...   \n",
       "tags.mlflow.user                                                         user   \n",
       "tags.mlflow.source.type                                                 LOCAL   \n",
       "\n",
       "run_id                                       080623df455947ee8dd4fa9887a74ef1  \\\n",
       "experiment_id                                              828221325841870602   \n",
       "status                                                               FINISHED   \n",
       "artifact_uri                file:///app/mlflow/828221325841870602/080623df...   \n",
       "start_time                                   2023-09-11 03:20:12.897000+00:00   \n",
       "end_time                                     2023-09-11 03:20:12.902000+00:00   \n",
       "metrics.cross_entropy                                                     NaN   \n",
       "metrics.mean_squared_error                                                NaN   \n",
       "params.alpha                                                             None   \n",
       "params.learning_rate                                                     None   \n",
       "tags.mlflow.runName                                        rebellious-bee-148   \n",
       "tags.mlflow.source.name     /app/miniconda/envs/collegium/lib/python3.10/s...   \n",
       "tags.mlflow.user                                                         user   \n",
       "tags.mlflow.source.type                                                 LOCAL   \n",
       "\n",
       "run_id                                       97bd9087cddf4ea480da352c6a4f053f  \\\n",
       "experiment_id                                              828221325841870602   \n",
       "status                                                               FINISHED   \n",
       "artifact_uri                file:///app/mlflow/828221325841870602/97bd9087...   \n",
       "start_time                                   2023-09-11 03:12:53.488000+00:00   \n",
       "end_time                                     2023-09-11 03:12:53.502000+00:00   \n",
       "metrics.cross_entropy                                               -4.896372   \n",
       "metrics.mean_squared_error                                           4.425403   \n",
       "params.alpha                                                                1   \n",
       "params.learning_rate                                                      0.1   \n",
       "tags.mlflow.runName                                        hilarious-hawk-119   \n",
       "tags.mlflow.source.name     /app/miniconda/envs/collegium/lib/python3.10/s...   \n",
       "tags.mlflow.user                                                         user   \n",
       "tags.mlflow.source.type                                                 LOCAL   \n",
       "\n",
       "run_id                                       8e006bba23db418fa97c1bc9e6efc735  \n",
       "experiment_id                                              828221325841870602  \n",
       "status                                                               FINISHED  \n",
       "artifact_uri                file:///app/mlflow/828221325841870602/8e006bba...  \n",
       "start_time                                   2023-09-11 03:12:53.477000+00:00  \n",
       "end_time                                     2023-09-11 03:12:53.482000+00:00  \n",
       "metrics.cross_entropy                                                     NaN  \n",
       "metrics.mean_squared_error                                                NaN  \n",
       "params.alpha                                                             None  \n",
       "params.learning_rate                                                     None  \n",
       "tags.mlflow.runName                                         ambitious-bug-448  \n",
       "tags.mlflow.source.name     /app/miniconda/envs/collegium/lib/python3.10/s...  \n",
       "tags.mlflow.user                                                         user  \n",
       "tags.mlflow.source.type                                                 LOCAL  "
      ]
     },
     "execution_count": 6,
     "metadata": {},
     "output_type": "execute_result"
    }
   ],
   "source": [
    "# The runs from a particular experiment can be viewed as a data frame.\n",
    "# In this data frame, the last reported metrics are shown.\n",
    "runs_dataframe = mlflow.search_runs()\n",
    "runs_dataframe.set_index('run_id').transpose()"
   ]
  },
  {
   "cell_type": "code",
   "execution_count": 7,
   "metadata": {},
   "outputs": [],
   "source": [
    "# The previous run can grabbed without needing an explicit run id.\n",
    "last_run = mlflow.last_active_run()"
   ]
  },
  {
   "cell_type": "code",
   "execution_count": 8,
   "metadata": {},
   "outputs": [
    {
     "data": {
      "text/plain": [
       "{'info': {'artifact_uri': 'file:///app/mlflow/828221325841870602/f7639f92c4b74572979169e01ca0bc09/artifacts',\n",
       "  'end_time': 1694402412921,\n",
       "  'experiment_id': '828221325841870602',\n",
       "  'lifecycle_stage': 'active',\n",
       "  'run_id': 'f7639f92c4b74572979169e01ca0bc09',\n",
       "  'run_name': 'glamorous-sow-493',\n",
       "  'run_uuid': 'f7639f92c4b74572979169e01ca0bc09',\n",
       "  'start_time': 1694402412908,\n",
       "  'status': 'FINISHED',\n",
       "  'user_id': 'user'},\n",
       " 'data': {'metrics': {'mean_squared_error': 7.034020576524727,\n",
       "   'cross_entropy': -1.2423583497554072},\n",
       "  'params': {'learning_rate': '0.1', 'alpha': '1'},\n",
       "  'tags': {'mlflow.runName': 'glamorous-sow-493',\n",
       "   'mlflow.source.type': 'LOCAL',\n",
       "   'mlflow.source.name': '/app/miniconda/envs/collegium/lib/python3.10/site-packages/ipykernel_launcher.py',\n",
       "   'mlflow.user': 'user'}},\n",
       " 'inputs': {'dataset_inputs': []}}"
      ]
     },
     "execution_count": 8,
     "metadata": {},
     "output_type": "execute_result"
    }
   ],
   "source": [
    "# Here is another way to get the details of a run.\n",
    "# Notice that the metrics here are only the latest values.\n",
    "last_run.to_dictionary()"
   ]
  },
  {
   "cell_type": "code",
   "execution_count": 9,
   "metadata": {},
   "outputs": [],
   "source": [
    "# MLFlow also has a second API called \"client\".\n",
    "mlflow_client = mlflow.tracking.MlflowClient()"
   ]
  },
  {
   "cell_type": "code",
   "execution_count": 10,
   "metadata": {},
   "outputs": [
    {
     "data": {
      "text/plain": [
       "[<Metric: key='cross_entropy', step=0, timestamp=1694402412914, value=1.2487013405112055>,\n",
       " <Metric: key='cross_entropy', step=1, timestamp=1694402412914, value=-0.8796784219579221>,\n",
       " <Metric: key='cross_entropy', step=2, timestamp=1694402412915, value=1.7604505795152017>,\n",
       " <Metric: key='cross_entropy', step=3, timestamp=1694402412915, value=-2.081857709818956>,\n",
       " <Metric: key='cross_entropy', step=4, timestamp=1694402412916, value=-0.9502479542199103>,\n",
       " <Metric: key='cross_entropy', step=5, timestamp=1694402412917, value=-1.6042928417127889>,\n",
       " <Metric: key='cross_entropy', step=6, timestamp=1694402412917, value=-4.784246995707138>,\n",
       " <Metric: key='cross_entropy', step=7, timestamp=1694402412918, value=4.214410527506512>,\n",
       " <Metric: key='cross_entropy', step=8, timestamp=1694402412918, value=-0.8774636794003801>,\n",
       " <Metric: key='cross_entropy', step=9, timestamp=1694402412919, value=-1.2423583497554072>]"
      ]
     },
     "execution_count": 10,
     "metadata": {},
     "output_type": "execute_result"
    }
   ],
   "source": [
    "# You can get the full history of a metric for a particular run.\n",
    "# This is useful to plot learning curve and do similar analysis.\n",
    "metric = (\n",
    "    mlflow_client\n",
    "    .get_metric_history(last_run.info.run_id, \"cross_entropy\")\n",
    ")\n",
    "metric"
   ]
  },
  {
   "cell_type": "code",
   "execution_count": 11,
   "metadata": {},
   "outputs": [
    {
     "data": {
      "text/plain": [
       "<Axes: xlabel='step'>"
      ]
     },
     "execution_count": 11,
     "metadata": {},
     "output_type": "execute_result"
    },
    {
     "data": {
      "image/png": "[encoded data removed]",
      "text/plain": [
       "<Figure size 640x480 with 1 Axes>"
      ]
     },
     "metadata": {},
     "output_type": "display_data"
    }
   ],
   "source": [
    "import pandas as pd\n",
    "\n",
    "pd.DataFrame([\n",
    "    {'cross_entropy': m.value, 'step': m.step} \n",
    "    for m in metric\n",
    "]).plot.line('step', 'cross_entropy')"
   ]
  },
  {
   "cell_type": "code",
   "execution_count": 12,
   "metadata": {},
   "outputs": [
    {
     "data": {
      "text/plain": [
       "[<FileInfo: file_size=45491, is_dir=False, path='MLFlow.ipynb'>]"
      ]
     },
     "execution_count": 12,
     "metadata": {},
     "output_type": "execute_result"
    }
   ],
   "source": [
    "# Artifacts can be listed.\n",
    "mlflow_client.list_artifacts(run_id=last_run.info.run_id)"
   ]
  },
  {
   "cell_type": "code",
   "execution_count": 13,
   "metadata": {},
   "outputs": [
    {
     "data": {
      "text/plain": [
       "'/app/mlflow/828221325841870602/f7639f92c4b74572979169e01ca0bc09/artifacts/MLFlow.ipynb'"
      ]
     },
     "execution_count": 13,
     "metadata": {},
     "output_type": "execute_result"
    }
   ],
   "source": [
    "# Artifacts can also be downloaded to the local filesystem.\n",
    "# You can also use the MLflow web UI to access the artifacts.\n",
    "mlflow_client.download_artifacts(run_id=last_run.info.run_id, path='MLFlow.ipynb')"
   ]
  }
 ],
 "metadata": {
  "kernelspec": {
   "display_name": "collegium",
   "language": "python",
   "name": "collegium"
  },
  "language_info": {
   "codemirror_mode": {
    "name": "ipython",
    "version": 3
   },
   "file_extension": ".py",
   "mimetype": "text/x-python",
   "name": "python",
   "nbconvert_exporter": "python",
   "pygments_lexer": "ipython3",
   "version": "3.10.8"
  }
 },
 "nbformat": 4,
 "nbformat_minor": 4
}

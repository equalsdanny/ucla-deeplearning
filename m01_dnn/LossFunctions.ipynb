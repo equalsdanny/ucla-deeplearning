{
 "cells": [
  {
   "cell_type": "markdown",
   "metadata": {},
   "source": [
    "# Regression Loss\n",
    "\n",
    "This category is called regression losses, because the output is real-valued:\n",
    "\n",
    "$ \\text{Loss Function}  \\in (\\mathbb{R}^{S \\times M}, \\mathbb{R}^{S \\times M}) \\rightarrow \\mathbb{R} $\n",
    "\n",
    "$$ \\text{Mean Absolute Error} = \\frac{1}{SM} \\sum_s^S \\sum_m^M |y_{s, m} - \\hat{y}_{s, m}| $$\n",
    "\n",
    "$$ \\text{Mean Squared Error} = \\frac{1}{SM} \\sum_s^S \\sum_m^M (y_{s, m} - \\hat{y}_{s, m})^2 $$"
   ]
  },
  {
   "cell_type": "code",
   "execution_count": 1,
   "metadata": {},
   "outputs": [],
   "source": [
    "import seaborn as sns\n",
    "import matplotlib as mpl\n",
    "import matplotlib.pyplot as plt\n",
    "import numpy as np\n",
    "import pandas as pd"
   ]
  },
  {
   "cell_type": "code",
   "execution_count": 2,
   "metadata": {},
   "outputs": [
    {
     "data": {
      "text/plain": [
       "(5.0, 2.0)"
      ]
     },
     "execution_count": 2,
     "metadata": {},
     "output_type": "execute_result"
    }
   ],
   "source": [
    "# See Keras documentation: https://keras.io/losses/\n",
    "\n",
    "def mean_absolute_error(y, yhat):\n",
    "    return np.abs(y - yhat).mean()\n",
    "\n",
    "def mean_squared_error(y, yhat):\n",
    "    return ((y - yhat) ** 2).mean()\n",
    "\n",
    "y = np.array([1, 3])\n",
    "yhat = np.array([0, 0])\n",
    "\n",
    "mean_squared_error(y, yhat), mean_absolute_error(y, yhat)"
   ]
  },
  {
   "cell_type": "markdown",
   "metadata": {},
   "source": [
    "# Classification Loss\n",
    "\n",
    "This category is called classification loss because typically used in classification problems:\n",
    "\n",
    "$ \\text{Loss Function} \\in ([0,1]^{S \\times M}, [0,1]^{S \\times M}) \\rightarrow \\mathbb{R} $\n",
    "\n",
    "Cross entropy is the most used loss in classification, but can be used to compare any two discrete distributions:\n",
    "$$ \n",
    "\\text{Cross Entropy} \n",
    "= - \\frac{1}{SM} \n",
    "\\sum_s^S \\sum_m^M y_{s, m} \\text{log}(\\hat{y}_{s, m})\n",
    "$$"
   ]
  },
  {
   "cell_type": "code",
   "execution_count": 3,
   "metadata": {},
   "outputs": [
    {
     "data": {
      "text/plain": [
       "0.45817256530258826"
      ]
     },
     "execution_count": 3,
     "metadata": {},
     "output_type": "execute_result"
    }
   ],
   "source": [
    "# Note that this implementation does not handle yhat = 0 properly.\n",
    "# In practice, logistic activation will not be exactly 0 though.\n",
    "def cross_entropy(y, yhat):\n",
    "    return - (y * np.log(yhat)).mean()\n",
    "\n",
    "s = 10\n",
    "m = 4\n",
    "\n",
    "# This is an example where y is not a one-hot vector.\n",
    "# Instead it's a probability distribution over classes.\n",
    "y = np.random.rand(s, m)\n",
    "yhat = np.random.rand(s, m)\n",
    "\n",
    "cross_entropy(y, yhat)"
   ]
  }
 ],
 "metadata": {
  "kernelspec": {
   "display_name": "collegium",
   "language": "python",
   "name": "collegium"
  },
  "language_info": {
   "codemirror_mode": {
    "name": "ipython",
    "version": 3
   },
   "file_extension": ".py",
   "mimetype": "text/x-python",
   "name": "python",
   "nbconvert_exporter": "python",
   "pygments_lexer": "ipython3",
   "version": "3.10.8"
  }
 },
 "nbformat": 4,
 "nbformat_minor": 4
}

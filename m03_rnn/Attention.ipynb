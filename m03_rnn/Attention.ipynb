{
 "cells": [
  {
   "cell_type": "code",
   "execution_count": 1,
   "id": "d721590b-b80e-408d-8c64-71189248e41e",
   "metadata": {},
   "outputs": [],
   "source": [
    "import tensorflow as tf\n",
    "from tensorflow.keras.layers import Attention"
   ]
  },
  {
   "cell_type": "code",
   "execution_count": 2,
   "id": "f7add838-ba6b-4d33-8e74-2381e203fc61",
   "metadata": {},
   "outputs": [
    {
     "data": {
      "text/plain": [
       "\u001b[0;31mInit signature:\u001b[0m \u001b[0mAttention\u001b[0m\u001b[0;34m(\u001b[0m\u001b[0muse_scale\u001b[0m\u001b[0;34m=\u001b[0m\u001b[0;32mFalse\u001b[0m\u001b[0;34m,\u001b[0m \u001b[0;34m**\u001b[0m\u001b[0mkwargs\u001b[0m\u001b[0;34m)\u001b[0m\u001b[0;34m\u001b[0m\u001b[0;34m\u001b[0m\u001b[0m\n",
       "\u001b[0;31mDocstring:\u001b[0m     \n",
       "Dot-product attention layer, a.k.a. Luong-style attention.\n",
       "\n",
       "Inputs are `query` tensor of shape `[batch_size, Tq, dim]`, `value` tensor of\n",
       "shape `[batch_size, Tv, dim]` and `key` tensor of shape\n",
       "`[batch_size, Tv, dim]`. The calculation follows the steps:\n",
       "\n",
       "1. Calculate scores with shape `[batch_size, Tq, Tv]` as a `query`-`key` dot\n",
       "   product: `scores = tf.matmul(query, key, transpose_b=True)`.\n",
       "2. Use scores to calculate a distribution with shape\n",
       "   `[batch_size, Tq, Tv]`: `distribution = tf.nn.softmax(scores)`.\n",
       "3. Use `distribution` to create a linear combination of `value` with\n",
       "   shape `[batch_size, Tq, dim]`:\n",
       "   `return tf.matmul(distribution, value)`.\n",
       "\n",
       "Args:\n",
       "  use_scale: If `True`, will create a scalar variable to scale the attention\n",
       "    scores.\n",
       "  causal: Boolean. Set to `True` for decoder self-attention. Adds a mask such\n",
       "    that position `i` cannot attend to positions `j > i`. This prevents the\n",
       "    flow of information from the future towards the past.\n",
       "    Defaults to `False`.\n",
       "  dropout: Float between 0 and 1. Fraction of the units to drop for the\n",
       "    attention scores. Defaults to 0.0.\n",
       "\n",
       "Call Args:\n",
       "\n",
       "  inputs: List of the following tensors:\n",
       "    * query: Query `Tensor` of shape `[batch_size, Tq, dim]`.\n",
       "    * value: Value `Tensor` of shape `[batch_size, Tv, dim]`.\n",
       "    * key: Optional key `Tensor` of shape `[batch_size, Tv, dim]`. If not\n",
       "      given, will use `value` for both `key` and `value`, which is the\n",
       "      most common case.\n",
       "  mask: List of the following tensors:\n",
       "    * query_mask: A boolean mask `Tensor` of shape `[batch_size, Tq]`.\n",
       "      If given, the output will be zero at the positions where\n",
       "      `mask==False`.\n",
       "    * value_mask: A boolean mask `Tensor` of shape `[batch_size, Tv]`.\n",
       "      If given, will apply the mask such that values at positions where\n",
       "      `mask==False` do not contribute to the result.\n",
       "  return_attention_scores: bool, it `True`, returns the attention scores\n",
       "    (after masking and softmax) as an additional output argument.\n",
       "  training: Python boolean indicating whether the layer should behave in\n",
       "    training mode (adding dropout) or in inference mode (no dropout).\n",
       "\n",
       "Output:\n",
       "\n",
       "  Attention outputs of shape `[batch_size, Tq, dim]`.\n",
       "  [Optional] Attention scores after masking and softmax with shape\n",
       "    `[batch_size, Tq, Tv]`.\n",
       "\n",
       "The meaning of `query`, `value` and `key` depend on the application. In the\n",
       "case of text similarity, for example, `query` is the sequence embeddings of\n",
       "the first piece of text and `value` is the sequence embeddings of the second\n",
       "piece of text. `key` is usually the same tensor as `value`.\n",
       "\n",
       "Here is a code example for using `Attention` in a CNN+Attention network:\n",
       "\n",
       "```python\n",
       "# Variable-length int sequences.\n",
       "query_input = tf.keras.Input(shape=(None,), dtype='int32')\n",
       "value_input = tf.keras.Input(shape=(None,), dtype='int32')\n",
       "\n",
       "# Embedding lookup.\n",
       "token_embedding = tf.keras.layers.Embedding(input_dim=1000, output_dim=64)\n",
       "# Query embeddings of shape [batch_size, Tq, dimension].\n",
       "query_embeddings = token_embedding(query_input)\n",
       "# Value embeddings of shape [batch_size, Tv, dimension].\n",
       "value_embeddings = token_embedding(value_input)\n",
       "\n",
       "# CNN layer.\n",
       "cnn_layer = tf.keras.layers.Conv1D(\n",
       "    filters=100,\n",
       "    kernel_size=4,\n",
       "    # Use 'same' padding so outputs have the same shape as inputs.\n",
       "    padding='same')\n",
       "# Query encoding of shape [batch_size, Tq, filters].\n",
       "query_seq_encoding = cnn_layer(query_embeddings)\n",
       "# Value encoding of shape [batch_size, Tv, filters].\n",
       "value_seq_encoding = cnn_layer(value_embeddings)\n",
       "\n",
       "# Query-value attention of shape [batch_size, Tq, filters].\n",
       "query_value_attention_seq = tf.keras.layers.Attention()(\n",
       "    [query_seq_encoding, value_seq_encoding])\n",
       "\n",
       "# Reduce over the sequence axis to produce encodings of shape\n",
       "# [batch_size, filters].\n",
       "query_encoding = tf.keras.layers.GlobalAveragePooling1D()(\n",
       "    query_seq_encoding)\n",
       "query_value_attention = tf.keras.layers.GlobalAveragePooling1D()(\n",
       "    query_value_attention_seq)\n",
       "\n",
       "# Concatenate query and document encodings to produce a DNN input layer.\n",
       "input_layer = tf.keras.layers.Concatenate()(\n",
       "    [query_encoding, query_value_attention])\n",
       "\n",
       "# Add DNN layers, and create Model.\n",
       "# ...\n",
       "```\n",
       "\u001b[0;31mInit docstring:\u001b[0m\n",
       "Initialize the BaseRandomLayer.\n",
       "\n",
       "Note that the constructor is annotated with\n",
       "@no_automatic_dependency_tracking. This is to skip the auto\n",
       "tracking of self._random_generator instance, which is an AutoTrackable.\n",
       "The backend.RandomGenerator could contain a tf.random.Generator instance\n",
       "which will have tf.Variable as the internal state. We want to avoid saving\n",
       "that state into model.weights and checkpoints for backward compatibility\n",
       "reason. In the meantime, we still need to make them visible to SavedModel\n",
       "when it is tracing the tf.function for the `call()`.\n",
       "See _list_extra_dependencies_for_serialization below for more details.\n",
       "\n",
       "Args:\n",
       "  seed: optional integer, used to create RandomGenerator.\n",
       "  force_generator: boolean, default to False, whether to force the\n",
       "    RandomGenerator to use the code branch of tf.random.Generator.\n",
       "  **kwargs: other keyword arguments that will be passed to the parent class\n",
       "\u001b[0;31mFile:\u001b[0m           ~/miniconda3/envs/ucla_deeplearning/lib/python3.10/site-packages/keras/layers/dense_attention.py\n",
       "\u001b[0;31mType:\u001b[0m           type\n",
       "\u001b[0;31mSubclasses:\u001b[0m     \n"
      ]
     },
     "metadata": {},
     "output_type": "display_data"
    }
   ],
   "source": [
    "?Attention"
   ]
  },
  {
   "cell_type": "markdown",
   "id": "fda55a8a-16cd-4cea-8c25-b473ca307787",
   "metadata": {},
   "source": [
    "### Cross-Attention in Keras"
   ]
  },
  {
   "cell_type": "code",
   "execution_count": 4,
   "id": "9fad0140-e165-4580-a0aa-09915e574724",
   "metadata": {},
   "outputs": [],
   "source": [
    "a = Attention()"
   ]
  },
  {
   "cell_type": "code",
   "execution_count": 28,
   "id": "32bfe9e0-5d37-47ad-9814-001e73b523d9",
   "metadata": {},
   "outputs": [
    {
     "data": {
      "text/plain": [
       "TensorShape([1, 2, 2])"
      ]
     },
     "execution_count": 28,
     "metadata": {},
     "output_type": "execute_result"
    }
   ],
   "source": [
    "v = tf.constant([\n",
    "    [\n",
    "        [1, 2],\n",
    "        [3, 4],\n",
    "    ]\n",
    "], dtype=tf.float32)\n",
    "v.shape"
   ]
  },
  {
   "cell_type": "code",
   "execution_count": 53,
   "id": "411d7ff7-8f7c-49f5-9a19-b56c525dc033",
   "metadata": {},
   "outputs": [
    {
     "data": {
      "text/plain": [
       "TensorShape([1, 2, 2])"
      ]
     },
     "execution_count": 53,
     "metadata": {},
     "output_type": "execute_result"
    }
   ],
   "source": [
    "k = tf.constant([\n",
    "    [\n",
    "        [1, 0],\n",
    "        [0, 1],\n",
    "    ]\n",
    "], dtype=tf.float32)\n",
    "k.shape"
   ]
  },
  {
   "cell_type": "code",
   "execution_count": 54,
   "id": "78eae2de-9540-407b-beba-1cc676e6783c",
   "metadata": {},
   "outputs": [
    {
     "data": {
      "text/plain": [
       "TensorShape([1, 4, 2])"
      ]
     },
     "execution_count": 54,
     "metadata": {},
     "output_type": "execute_result"
    }
   ],
   "source": [
    "q = tf.constant([\n",
    "    [\n",
    "        [1, 0],\n",
    "        [0, 1],\n",
    "        [1, 1],\n",
    "        [0, 0]\n",
    "    ]\n",
    "], dtype=tf.float32)\n",
    "q.shape"
   ]
  },
  {
   "cell_type": "code",
   "execution_count": 55,
   "id": "bb886632-d127-45a3-8a9d-6289d390a1b1",
   "metadata": {},
   "outputs": [
    {
     "data": {
      "text/plain": [
       "TensorShape([1, 4, 2])"
      ]
     },
     "execution_count": 55,
     "metadata": {},
     "output_type": "execute_result"
    }
   ],
   "source": [
    "out = a([q, v, k])\n",
    "out.shape"
   ]
  },
  {
   "cell_type": "code",
   "execution_count": 56,
   "id": "b15fe2b5-ae83-414f-b938-06d776083edc",
   "metadata": {},
   "outputs": [
    {
     "data": {
      "text/plain": [
       "array([[1.5378828, 2.5378828],\n",
       "       [2.462117 , 3.462117 ],\n",
       "       [2.       , 3.       ],\n",
       "       [2.       , 3.       ]], dtype=float32)"
      ]
     },
     "execution_count": 56,
     "metadata": {},
     "output_type": "execute_result"
    }
   ],
   "source": [
    "out[0].numpy()"
   ]
  },
  {
   "cell_type": "markdown",
   "id": "70572f30-c523-4a9d-a3f1-108ccacbea50",
   "metadata": {},
   "source": [
    "### Cross-Attention in Tensorflow"
   ]
  },
  {
   "cell_type": "code",
   "execution_count": 70,
   "id": "6843fce9-3189-4a2a-9241-877b283c8088",
   "metadata": {},
   "outputs": [
    {
     "data": {
      "text/plain": [
       "array([[[1.5378828, 2.5378828],\n",
       "        [2.462117 , 3.462117 ],\n",
       "        [2.       , 3.       ],\n",
       "        [2.       , 3.       ]]], dtype=float32)"
      ]
     },
     "execution_count": 70,
     "metadata": {},
     "output_type": "execute_result"
    }
   ],
   "source": [
    "similar_logit = [qm @ tf.transpose(km) for qm, km in zip(q, k)]\n",
    "similar_weight = tf.math.softmax(similar_logit)\n",
    "out = similar_weight @ v\n",
    "out.numpy()"
   ]
  },
  {
   "cell_type": "markdown",
   "id": "ef38ba2e-6077-4831-b484-def7c37929eb",
   "metadata": {},
   "source": [
    "### Self-Attention in Keras"
   ]
  },
  {
   "cell_type": "code",
   "execution_count": 75,
   "id": "e7b1eb47-c41e-4485-b905-1e558c96cf56",
   "metadata": {},
   "outputs": [
    {
     "data": {
      "text/plain": [
       "array([[[0.73105854, 0.26894143],\n",
       "        [0.26894143, 0.73105854]]], dtype=float32)"
      ]
     },
     "execution_count": 75,
     "metadata": {},
     "output_type": "execute_result"
    }
   ],
   "source": [
    "a([k, k, k]).numpy()"
   ]
  },
  {
   "cell_type": "markdown",
   "id": "f58820d7-6b6f-475d-8099-40890e075e71",
   "metadata": {},
   "source": [
    "### Self-Attention in Tensorflow"
   ]
  },
  {
   "cell_type": "code",
   "execution_count": 76,
   "id": "2fe8b9bb-ea34-43de-94de-deee8e126a5f",
   "metadata": {},
   "outputs": [
    {
     "data": {
      "text/plain": [
       "array([[[0.73105854, 0.26894143],\n",
       "        [0.26894143, 0.73105854]]], dtype=float32)"
      ]
     },
     "execution_count": 76,
     "metadata": {},
     "output_type": "execute_result"
    }
   ],
   "source": [
    "similar_logit = [km @ tf.transpose(km) for km, km in zip(k, k)]\n",
    "similar_weight = tf.math.softmax(similar_logit)\n",
    "out = similar_weight @ k\n",
    "out.numpy()"
   ]
  },
  {
   "cell_type": "markdown",
   "id": "bc1d4209-6578-4f81-b028-c0181f627caa",
   "metadata": {},
   "source": [
    "### Multi-head Attention"
   ]
  },
  {
   "cell_type": "code",
   "execution_count": 80,
   "id": "1ca99922-81ab-4fd1-aba3-f3e7378b891a",
   "metadata": {},
   "outputs": [
    {
     "data": {
      "text/plain": [
       "\u001b[0;31mInit signature:\u001b[0m\n",
       "\u001b[0mMultiHeadAttention\u001b[0m\u001b[0;34m(\u001b[0m\u001b[0;34m\u001b[0m\n",
       "\u001b[0;34m\u001b[0m    \u001b[0mnum_heads\u001b[0m\u001b[0;34m,\u001b[0m\u001b[0;34m\u001b[0m\n",
       "\u001b[0;34m\u001b[0m    \u001b[0mkey_dim\u001b[0m\u001b[0;34m,\u001b[0m\u001b[0;34m\u001b[0m\n",
       "\u001b[0;34m\u001b[0m    \u001b[0mvalue_dim\u001b[0m\u001b[0;34m=\u001b[0m\u001b[0;32mNone\u001b[0m\u001b[0;34m,\u001b[0m\u001b[0;34m\u001b[0m\n",
       "\u001b[0;34m\u001b[0m    \u001b[0mdropout\u001b[0m\u001b[0;34m=\u001b[0m\u001b[0;36m0.0\u001b[0m\u001b[0;34m,\u001b[0m\u001b[0;34m\u001b[0m\n",
       "\u001b[0;34m\u001b[0m    \u001b[0muse_bias\u001b[0m\u001b[0;34m=\u001b[0m\u001b[0;32mTrue\u001b[0m\u001b[0;34m,\u001b[0m\u001b[0;34m\u001b[0m\n",
       "\u001b[0;34m\u001b[0m    \u001b[0moutput_shape\u001b[0m\u001b[0;34m=\u001b[0m\u001b[0;32mNone\u001b[0m\u001b[0;34m,\u001b[0m\u001b[0;34m\u001b[0m\n",
       "\u001b[0;34m\u001b[0m    \u001b[0mattention_axes\u001b[0m\u001b[0;34m=\u001b[0m\u001b[0;32mNone\u001b[0m\u001b[0;34m,\u001b[0m\u001b[0;34m\u001b[0m\n",
       "\u001b[0;34m\u001b[0m    \u001b[0mkernel_initializer\u001b[0m\u001b[0;34m=\u001b[0m\u001b[0;34m'glorot_uniform'\u001b[0m\u001b[0;34m,\u001b[0m\u001b[0;34m\u001b[0m\n",
       "\u001b[0;34m\u001b[0m    \u001b[0mbias_initializer\u001b[0m\u001b[0;34m=\u001b[0m\u001b[0;34m'zeros'\u001b[0m\u001b[0;34m,\u001b[0m\u001b[0;34m\u001b[0m\n",
       "\u001b[0;34m\u001b[0m    \u001b[0mkernel_regularizer\u001b[0m\u001b[0;34m=\u001b[0m\u001b[0;32mNone\u001b[0m\u001b[0;34m,\u001b[0m\u001b[0;34m\u001b[0m\n",
       "\u001b[0;34m\u001b[0m    \u001b[0mbias_regularizer\u001b[0m\u001b[0;34m=\u001b[0m\u001b[0;32mNone\u001b[0m\u001b[0;34m,\u001b[0m\u001b[0;34m\u001b[0m\n",
       "\u001b[0;34m\u001b[0m    \u001b[0mactivity_regularizer\u001b[0m\u001b[0;34m=\u001b[0m\u001b[0;32mNone\u001b[0m\u001b[0;34m,\u001b[0m\u001b[0;34m\u001b[0m\n",
       "\u001b[0;34m\u001b[0m    \u001b[0mkernel_constraint\u001b[0m\u001b[0;34m=\u001b[0m\u001b[0;32mNone\u001b[0m\u001b[0;34m,\u001b[0m\u001b[0;34m\u001b[0m\n",
       "\u001b[0;34m\u001b[0m    \u001b[0mbias_constraint\u001b[0m\u001b[0;34m=\u001b[0m\u001b[0;32mNone\u001b[0m\u001b[0;34m,\u001b[0m\u001b[0;34m\u001b[0m\n",
       "\u001b[0;34m\u001b[0m    \u001b[0;34m**\u001b[0m\u001b[0mkwargs\u001b[0m\u001b[0;34m,\u001b[0m\u001b[0;34m\u001b[0m\n",
       "\u001b[0;34m\u001b[0m\u001b[0;34m)\u001b[0m\u001b[0;34m\u001b[0m\u001b[0;34m\u001b[0m\u001b[0m\n",
       "\u001b[0;31mDocstring:\u001b[0m     \n",
       "MultiHeadAttention layer.\n",
       "\n",
       "This is an implementation of multi-headed attention as described in the paper\n",
       "\"Attention is all you Need\" (Vaswani et al., 2017).\n",
       "If `query`, `key,` `value` are the same, then\n",
       "this is self-attention. Each timestep in `query` attends to the\n",
       "corresponding sequence in `key`, and returns a fixed-width vector.\n",
       "\n",
       "This layer first projects `query`, `key` and `value`. These are\n",
       "(effectively) a list of tensors of length `num_attention_heads`, where the\n",
       "corresponding shapes are `(batch_size, <query dimensions>, key_dim)`,\n",
       "`(batch_size, <key/value dimensions>, key_dim)`,\n",
       "`(batch_size, <key/value dimensions>, value_dim)`.\n",
       "\n",
       "Then, the query and key tensors are dot-producted and scaled. These are\n",
       "softmaxed to obtain attention probabilities. The value tensors are then\n",
       "interpolated by these probabilities, then concatenated back to a single\n",
       "tensor.\n",
       "\n",
       "Finally, the result tensor with the last dimension as value_dim can take an\n",
       "linear projection and return.\n",
       "\n",
       "When using MultiHeadAttention inside a custom Layer, the custom Layer must\n",
       "implement `build()` and call MultiHeadAttention's `_build_from_signature()`.\n",
       "This enables weights to be restored correctly when the model is loaded.\n",
       "TODO(b/172609172): link to documentation about calling custom build functions\n",
       "when used in a custom Layer.\n",
       "\n",
       "Examples:\n",
       "\n",
       "Performs 1D cross-attention over two sequence inputs with an attention mask.\n",
       "Returns the additional attention weights over heads.\n",
       "\n",
       ">>> layer = MultiHeadAttention(num_heads=2, key_dim=2)\n",
       ">>> target = tf.keras.Input(shape=[8, 16])\n",
       ">>> source = tf.keras.Input(shape=[4, 16])\n",
       ">>> output_tensor, weights = layer(target, source,\n",
       "...                                return_attention_scores=True)\n",
       ">>> print(output_tensor.shape)\n",
       "(None, 8, 16)\n",
       ">>> print(weights.shape)\n",
       "(None, 2, 8, 4)\n",
       "\n",
       "Performs 2D self-attention over a 5D input tensor on axes 2 and 3.\n",
       "\n",
       ">>> layer = MultiHeadAttention(num_heads=2, key_dim=2, attention_axes=(2, 3))\n",
       ">>> input_tensor = tf.keras.Input(shape=[5, 3, 4, 16])\n",
       ">>> output_tensor = layer(input_tensor, input_tensor)\n",
       ">>> print(output_tensor.shape)\n",
       "(None, 5, 3, 4, 16)\n",
       "\n",
       "Args:\n",
       "  num_heads: Number of attention heads.\n",
       "  key_dim: Size of each attention head for query and key.\n",
       "  value_dim: Size of each attention head for value.\n",
       "  dropout: Dropout probability.\n",
       "  use_bias: Boolean, whether the dense layers use bias vectors/matrices.\n",
       "  output_shape: The expected shape of an output tensor, besides the batch and\n",
       "    sequence dims. If not specified, projects back to the key feature dim.\n",
       "  attention_axes: axes over which the attention is applied. `None` means\n",
       "    attention over all axes, but batch, heads, and features.\n",
       "  kernel_initializer: Initializer for dense layer kernels.\n",
       "  bias_initializer: Initializer for dense layer biases.\n",
       "  kernel_regularizer: Regularizer for dense layer kernels.\n",
       "  bias_regularizer: Regularizer for dense layer biases.\n",
       "  activity_regularizer: Regularizer for dense layer activity.\n",
       "  kernel_constraint: Constraint for dense layer kernels.\n",
       "  bias_constraint: Constraint for dense layer kernels.\n",
       "\n",
       "Call arguments:\n",
       "  query: Query `Tensor` of shape `(B, T, dim)`.\n",
       "  value: Value `Tensor` of shape `(B, S, dim)`.\n",
       "  key: Optional key `Tensor` of shape `(B, S, dim)`. If not given, will use\n",
       "    `value` for both `key` and `value`, which is the most common case.\n",
       "  attention_mask: a boolean mask of shape `(B, T, S)`, that prevents\n",
       "    attention to certain positions. The boolean mask specifies which query\n",
       "    elements can attend to which key elements, 1 indicates attention and 0\n",
       "    indicates no attention. Broadcasting can happen for the missing batch\n",
       "    dimensions and the head dimension.\n",
       "  return_attention_scores: A boolean to indicate whether the output should\n",
       "    be `(attention_output, attention_scores)` if `True`, or `attention_output`\n",
       "    if `False`. Defaults to `False`.\n",
       "  training: Python boolean indicating whether the layer should behave in\n",
       "    training mode (adding dropout) or in inference mode (no dropout).\n",
       "    Defaults to either using the training mode of the parent layer/model,\n",
       "    or False (inference) if there is no parent layer.\n",
       "\n",
       "Returns:\n",
       "  attention_output: The result of the computation, of shape `(B, T, E)`,\n",
       "    where `T` is for target sequence shapes and `E` is the query input last\n",
       "    dimension if `output_shape` is `None`. Otherwise, the multi-head outputs\n",
       "    are project to the shape specified by `output_shape`.\n",
       "  attention_scores: [Optional] multi-head attention coefficients over\n",
       "    attention axes.\n",
       "\u001b[0;31mFile:\u001b[0m           ~/miniconda3/envs/ucla_deeplearning/lib/python3.10/site-packages/keras/layers/multi_head_attention.py\n",
       "\u001b[0;31mType:\u001b[0m           type\n",
       "\u001b[0;31mSubclasses:\u001b[0m     \n"
      ]
     },
     "metadata": {},
     "output_type": "display_data"
    }
   ],
   "source": [
    "from tensorflow.keras.layers import MultiHeadAttention\n",
    "?MultiHeadAttention"
   ]
  }
 ],
 "metadata": {
  "kernelspec": {
   "display_name": "collegium",
   "language": "python",
   "name": "collegium"
  },
  "language_info": {
   "codemirror_mode": {
    "name": "ipython",
    "version": 3
   },
   "file_extension": ".py",
   "mimetype": "text/x-python",
   "name": "python",
   "nbconvert_exporter": "python",
   "pygments_lexer": "ipython3",
   "version": "3.10.8"
  }
 },
 "nbformat": 4,
 "nbformat_minor": 5
}

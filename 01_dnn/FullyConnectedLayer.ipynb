{
 "cells": [
  {
   "cell_type": "markdown",
   "metadata": {},
   "source": [
    "# Fully Connected Layer\n",
    "\n",
    "All definitions use a batch of $S$ examples, meaning the forward pass is done on $S$ examples from the training dataset.\n",
    "Weight matrix has row vectors that correspond to $M$ nodes within a layer, while column vectors correspond to each of $N$ nodes of the previous layer's activation matrix (or $N$ features of the training dataset).\n",
    "Layer activation matrix has row vectors that correspond to each of $S$ examples, while column vectors are individual nodes of that layer.\n",
    "\n",
    "In summary, a layer's input matrix is $S \\times N$, while the activation matrix is $S \\times M$.\n",
    "\n",
    "In all of the expressions below: \n",
    "* $[l]$ - layer # in the network\n",
    "* $m$ - node # in a layer\n",
    "* $n$ - input # in a node\n",
    "* $s$ - example # in a batch\n",
    "\n",
    "The activation of node $m$ within layer $l$, given a batch of inputs $\\textbf{A}^{[l-1]}$:\n",
    "$$ \\textbf{z}^{[l]}_{:, m} = \\textbf{A}^{[l-1]} \\cdot \\textbf{w}^{[l]T}_{m, :} + b^{[l]}_m $$\n",
    "\n",
    "$$ \\textbf{a}^{[l]}_{:, m} = f(\\textbf{z}^{[l]}_{:, m}) $$\n",
    "\n",
    "The activation matrix of layer $l$, given a batch of inputs $\\textbf{A}^{[l-1]}$:\n",
    "\n",
    "$$ \\textbf{Z}^{[l]} = \\textbf{A}^{[l-1]} \\cdot \\textbf{W}^{[l]T}  + \\textbf{b}^{[l]}  $$\n",
    "\n",
    "$$ \\textbf{A}^{[l]} = f(\\textbf{Z}^{[l]}) $$"
   ]
  },
  {
   "cell_type": "code",
   "execution_count": 1,
   "metadata": {},
   "outputs": [
    {
     "name": "stdout",
     "output_type": "stream",
     "text": [
      "(10, 3)\n"
     ]
    }
   ],
   "source": [
    "import numpy as np\n",
    "\n",
    "n = 5\n",
    "m = 3\n",
    "s = 10\n",
    "\n",
    "X = np.random.rand(s, n)\n",
    "W = np.random.rand(m, n)\n",
    "b = np.random.rand(1, m)\n",
    "\n",
    "Z = np.dot(X, W.T) + b\n",
    "\n",
    "print(Z.shape)"
   ]
  },
  {
   "cell_type": "markdown",
   "metadata": {},
   "source": [
    "# Example for the 1st Layer\n",
    "\n",
    "For the 1st layer's 3rd neuron, the calculation for a batch of $\\textbf{X}$:\n",
    "\n",
    "$$ \\textbf{z}^{[1]}_{:, 3} = \\textbf{X} \\cdot \\textbf{w}^{[1]T}_{3, :} + b^{[1]}_3 $$\n",
    "\n",
    "$$ \\textbf{a}^{[1]}_{:, 3} = f(\\textbf{z}^{[1]}_{:, 3}) $$\n",
    "\n",
    "\n",
    "The activation matrix for the whole 1st layer given a batch of $\\textbf{X}$:\n",
    "\n",
    "$$ \\textbf{Z}^{[1]} = \\textbf{X} \\cdot \\textbf{W}^{[1]T}  + \\textbf{b}^{[1]}  $$\n",
    "\n",
    "$$ \\textbf{A}^{[1]} = f(\\textbf{Z}^{[1]}) $$"
   ]
  },
  {
   "cell_type": "markdown",
   "metadata": {},
   "source": [
    "# Derivatives\n",
    "\n",
    "Derivative of pre-activation for a single example with respect to a node's weight is the example's corresponding feature:\n",
    "\n",
    "$$ \\frac{\\partial z^{[l]}_{s, m}}{\\partial w^{[l]}_{m, n}} = a^{[l-1]}_{s, n} $$\n",
    "\n",
    "Derivative of activation for a single example with respect to pre-activation is the activation function's derivative evaluated at the point of pre-activation:\n",
    "$$ \\frac {\\partial a^{[l]}_{s, m}} {\\partial z^{[l]}_{s, m}} = f'(z^{[l]}_{s, m}) $$\n",
    "\n",
    "Derivative of the cost of a batch with respect to a node's weight:\n",
    "\n",
    "$$\n",
    "\\frac {\\partial C} {\\partial w^{[l]}_{m, n}}\n",
    "= \\sum_{s=1}^S \\big[\n",
    "    \\frac {\\partial C_s} {\\partial a^{[l]}_{s, m}} \n",
    "    * \\frac {\\partial a^{[l]}_{s, m}} {\\partial z^{[l]}_{s, m}} \n",
    "    * \\frac {\\partial z^{[l]}_{s, m}} {\\partial w^{[l]}_{m, n}} \n",
    "\\big]\n",
    "$$ \n",
    "\n",
    "$$ \n",
    "\\frac {\\partial C} {\\partial w^{[l]}_{m, n}}\n",
    "= \\sum_{s=1}^S \\big[\n",
    "    \\frac {\\partial C_s} {\\partial a^{[l]}_{s, m}} \n",
    "    * f'(z^{[l]}_{s, m})\n",
    "    * a^{[l-1]}_{s, n} \n",
    "\\big]\n",
    "$$"
   ]
  }
 ],
 "metadata": {
  "kernelspec": {
   "display_name": "collegium",
   "language": "python",
   "name": "collegium"
  },
  "language_info": {
   "codemirror_mode": {
    "name": "ipython",
    "version": 3
   },
   "file_extension": ".py",
   "mimetype": "text/x-python",
   "name": "python",
   "nbconvert_exporter": "python",
   "pygments_lexer": "ipython3",
   "version": "3.10.8"
  }
 },
 "nbformat": 4,
 "nbformat_minor": 4
}

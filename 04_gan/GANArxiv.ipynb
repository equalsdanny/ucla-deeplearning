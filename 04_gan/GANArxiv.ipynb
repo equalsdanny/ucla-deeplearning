{
 "cells": [
  {
   "cell_type": "code",
   "execution_count": 1,
   "id": "26c45ca9-24be-4a29-b125-0cfe4a82bf54",
   "metadata": {},
   "outputs": [
    {
     "name": "stdout",
     "output_type": "stream",
     "text": [
      "Requirement already satisfied: beautifulsoup4 in /root/miniconda3/envs/ucla_deeplearning/lib/python3.10/site-packages (4.11.1)\n",
      "Requirement already satisfied: lxml in /root/miniconda3/envs/ucla_deeplearning/lib/python3.10/site-packages (4.9.1)\n",
      "Requirement already satisfied: soupsieve>1.2 in /root/miniconda3/envs/ucla_deeplearning/lib/python3.10/site-packages (from beautifulsoup4) (2.3.2.post1)\n",
      "\u001b[33mWARNING: Running pip as the 'root' user can result in broken permissions and conflicting behaviour with the system package manager. It is recommended to use a virtual environment instead: https://pip.pypa.io/warnings/venv\u001b[0m\u001b[33m\n",
      "\u001b[0m"
     ]
    }
   ],
   "source": [
    "!pip install beautifulsoup4 lxml\n",
    "import requests\n",
    "import matplotlib.pyplot as plt\n",
    "import pandas as pd\n",
    "%config InlineBackend.figure_format = 'retina'"
   ]
  },
  {
   "cell_type": "code",
   "execution_count": 31,
   "id": "79fb8916-a737-4ba7-9c1a-1b12cb8cdce2",
   "metadata": {},
   "outputs": [],
   "source": [
    "# https://arxiv.org/help/api/user-manual\n",
    "response = requests.get('https://export.arxiv.org/api/query?search_query=all:GAN&max_results=10000')"
   ]
  },
  {
   "cell_type": "code",
   "execution_count": 33,
   "id": "0da57dc5",
   "metadata": {},
   "outputs": [],
   "source": [
    "from bs4 import BeautifulSoup\n",
    "soup = BeautifulSoup(response.text, 'xml')"
   ]
  },
  {
   "cell_type": "code",
   "execution_count": 34,
   "id": "61ba48cd",
   "metadata": {},
   "outputs": [
    {
     "data": {
      "text/plain": [
       "8414"
      ]
     },
     "execution_count": 34,
     "metadata": {},
     "output_type": "execute_result"
    }
   ],
   "source": [
    "entries = soup.find_all('entry')\n",
    "len(entries)"
   ]
  },
  {
   "cell_type": "code",
   "execution_count": 142,
   "id": "f1eb1f40",
   "metadata": {},
   "outputs": [
    {
     "data": {
      "text/html": [
       "<div>\n",
       "<style scoped>\n",
       "    .dataframe tbody tr th:only-of-type {\n",
       "        vertical-align: middle;\n",
       "    }\n",
       "\n",
       "    .dataframe tbody tr th {\n",
       "        vertical-align: top;\n",
       "    }\n",
       "\n",
       "    .dataframe thead th {\n",
       "        text-align: right;\n",
       "    }\n",
       "</style>\n",
       "<table border=\"1\" class=\"dataframe\">\n",
       "  <thead>\n",
       "    <tr style=\"text-align: right;\">\n",
       "      <th></th>\n",
       "      <th>published</th>\n",
       "      <th>text</th>\n",
       "      <th>published_month</th>\n",
       "      <th>published_year</th>\n",
       "    </tr>\n",
       "  </thead>\n",
       "  <tbody>\n",
       "    <tr>\n",
       "      <th>0</th>\n",
       "      <td>2021-11-26 00:45:08+00:00</td>\n",
       "      <td>\\nhttp://arxiv.org/abs/2111.13282v1\\n2021-11-2...</td>\n",
       "      <td>2021-11-01 00:00:00+00:00</td>\n",
       "      <td>2021-01-01 00:00:00+00:00</td>\n",
       "    </tr>\n",
       "    <tr>\n",
       "      <th>1</th>\n",
       "      <td>2019-04-01 12:19:28+00:00</td>\n",
       "      <td>\\nhttp://arxiv.org/abs/1904.00724v1\\n2019-04-0...</td>\n",
       "      <td>2019-04-01 00:00:00+00:00</td>\n",
       "      <td>2019-01-01 00:00:00+00:00</td>\n",
       "    </tr>\n",
       "    <tr>\n",
       "      <th>2</th>\n",
       "      <td>2017-01-23 04:46:22+00:00</td>\n",
       "      <td>\\nhttp://arxiv.org/abs/1701.06264v6\\n2018-03-1...</td>\n",
       "      <td>2017-01-01 00:00:00+00:00</td>\n",
       "      <td>2017-01-01 00:00:00+00:00</td>\n",
       "    </tr>\n",
       "    <tr>\n",
       "      <th>3</th>\n",
       "      <td>2020-03-18 05:14:51+00:00</td>\n",
       "      <td>\\nhttp://arxiv.org/abs/2003.08047v1\\n2020-03-1...</td>\n",
       "      <td>2020-03-01 00:00:00+00:00</td>\n",
       "      <td>2020-01-01 00:00:00+00:00</td>\n",
       "    </tr>\n",
       "    <tr>\n",
       "      <th>4</th>\n",
       "      <td>2020-02-06 06:03:04+00:00</td>\n",
       "      <td>\\nhttp://arxiv.org/abs/2002.02112v1\\n2020-02-0...</td>\n",
       "      <td>2020-02-01 00:00:00+00:00</td>\n",
       "      <td>2020-01-01 00:00:00+00:00</td>\n",
       "    </tr>\n",
       "  </tbody>\n",
       "</table>\n",
       "</div>"
      ],
      "text/plain": [
       "                  published  \\\n",
       "0 2021-11-26 00:45:08+00:00   \n",
       "1 2019-04-01 12:19:28+00:00   \n",
       "2 2017-01-23 04:46:22+00:00   \n",
       "3 2020-03-18 05:14:51+00:00   \n",
       "4 2020-02-06 06:03:04+00:00   \n",
       "\n",
       "                                                text  \\\n",
       "0  \\nhttp://arxiv.org/abs/2111.13282v1\\n2021-11-2...   \n",
       "1  \\nhttp://arxiv.org/abs/1904.00724v1\\n2019-04-0...   \n",
       "2  \\nhttp://arxiv.org/abs/1701.06264v6\\n2018-03-1...   \n",
       "3  \\nhttp://arxiv.org/abs/2003.08047v1\\n2020-03-1...   \n",
       "4  \\nhttp://arxiv.org/abs/2002.02112v1\\n2020-02-0...   \n",
       "\n",
       "            published_month            published_year  \n",
       "0 2021-11-01 00:00:00+00:00 2021-01-01 00:00:00+00:00  \n",
       "1 2019-04-01 00:00:00+00:00 2019-01-01 00:00:00+00:00  \n",
       "2 2017-01-01 00:00:00+00:00 2017-01-01 00:00:00+00:00  \n",
       "3 2020-03-01 00:00:00+00:00 2020-01-01 00:00:00+00:00  \n",
       "4 2020-02-01 00:00:00+00:00 2020-01-01 00:00:00+00:00  "
      ]
     },
     "execution_count": 142,
     "metadata": {},
     "output_type": "execute_result"
    }
   ],
   "source": [
    "published = (\n",
    "    pd.to_datetime([entry.published.get_text() for entry in entries])\n",
    "    .to_series()\n",
    "    .reset_index(drop=True)\n",
    "    .rename('published')\n",
    ")\n",
    "published_month = (published.round('D') + pd.offsets.MonthBegin(-1)).rename('published_month')\n",
    "published_year = (published.round('D') + pd.offsets.YearBegin(-1)).rename('published_year')\n",
    "\n",
    "text = pd.Series([entry.get_text() for entry in entries], name='text')\n",
    "\n",
    "df = pd.concat([published, text, published_month, published_year], axis=1)\n",
    "df.head()"
   ]
  },
  {
   "cell_type": "code",
   "execution_count": 145,
   "id": "8f9b3012",
   "metadata": {},
   "outputs": [],
   "source": [
    "gan_abstract = (\n",
    "    df.text.str.contains('GAN') | df.text.str.contains('Generative Adversarial')\n",
    ")\n",
    "\n",
    "df_gan = df.loc[gan_abstract]"
   ]
  },
  {
   "cell_type": "code",
   "execution_count": 138,
   "id": "8f02f89a",
   "metadata": {},
   "outputs": [
    {
     "data": {
      "text/plain": [
       "0.6414309484193012"
      ]
     },
     "execution_count": 138,
     "metadata": {},
     "output_type": "execute_result"
    }
   ],
   "source": [
    "gan_abstract.mean()"
   ]
  },
  {
   "cell_type": "code",
   "execution_count": 35,
   "id": "f259df67",
   "metadata": {},
   "outputs": [],
   "source": [
    "import datetime as dt\n",
    "import pandas as pd\n"
   ]
  },
  {
   "cell_type": "code",
   "execution_count": 146,
   "id": "c6a8598f",
   "metadata": {},
   "outputs": [
    {
     "data": {
      "text/html": [
       "<div>\n",
       "<style scoped>\n",
       "    .dataframe tbody tr th:only-of-type {\n",
       "        vertical-align: middle;\n",
       "    }\n",
       "\n",
       "    .dataframe tbody tr th {\n",
       "        vertical-align: top;\n",
       "    }\n",
       "\n",
       "    .dataframe thead th {\n",
       "        text-align: right;\n",
       "    }\n",
       "</style>\n",
       "<table border=\"1\" class=\"dataframe\">\n",
       "  <thead>\n",
       "    <tr style=\"text-align: right;\">\n",
       "      <th></th>\n",
       "      <th>month</th>\n",
       "      <th>count</th>\n",
       "    </tr>\n",
       "  </thead>\n",
       "  <tbody>\n",
       "    <tr>\n",
       "      <th>0</th>\n",
       "      <td>2009-02-01 00:00:00+00:00</td>\n",
       "      <td>5</td>\n",
       "    </tr>\n",
       "    <tr>\n",
       "      <th>1</th>\n",
       "      <td>2009-03-01 00:00:00+00:00</td>\n",
       "      <td>6</td>\n",
       "    </tr>\n",
       "    <tr>\n",
       "      <th>2</th>\n",
       "      <td>2009-12-01 00:00:00+00:00</td>\n",
       "      <td>7</td>\n",
       "    </tr>\n",
       "    <tr>\n",
       "      <th>3</th>\n",
       "      <td>2013-12-01 00:00:00+00:00</td>\n",
       "      <td>8</td>\n",
       "    </tr>\n",
       "    <tr>\n",
       "      <th>4</th>\n",
       "      <td>2014-12-01 00:00:00+00:00</td>\n",
       "      <td>9</td>\n",
       "    </tr>\n",
       "    <tr>\n",
       "      <th>...</th>\n",
       "      <td>...</td>\n",
       "      <td>...</td>\n",
       "    </tr>\n",
       "    <tr>\n",
       "      <th>82</th>\n",
       "      <td>2022-06-01 00:00:00+00:00</td>\n",
       "      <td>5093</td>\n",
       "    </tr>\n",
       "    <tr>\n",
       "      <th>83</th>\n",
       "      <td>2022-07-01 00:00:00+00:00</td>\n",
       "      <td>5198</td>\n",
       "    </tr>\n",
       "    <tr>\n",
       "      <th>84</th>\n",
       "      <td>2022-08-01 00:00:00+00:00</td>\n",
       "      <td>5274</td>\n",
       "    </tr>\n",
       "    <tr>\n",
       "      <th>85</th>\n",
       "      <td>2022-09-01 00:00:00+00:00</td>\n",
       "      <td>5353</td>\n",
       "    </tr>\n",
       "    <tr>\n",
       "      <th>86</th>\n",
       "      <td>2022-10-01 00:00:00+00:00</td>\n",
       "      <td>5397</td>\n",
       "    </tr>\n",
       "  </tbody>\n",
       "</table>\n",
       "<p>87 rows × 2 columns</p>\n",
       "</div>"
      ],
      "text/plain": [
       "                       month  count\n",
       "0  2009-02-01 00:00:00+00:00      5\n",
       "1  2009-03-01 00:00:00+00:00      6\n",
       "2  2009-12-01 00:00:00+00:00      7\n",
       "3  2013-12-01 00:00:00+00:00      8\n",
       "4  2014-12-01 00:00:00+00:00      9\n",
       "..                       ...    ...\n",
       "82 2022-06-01 00:00:00+00:00   5093\n",
       "83 2022-07-01 00:00:00+00:00   5198\n",
       "84 2022-08-01 00:00:00+00:00   5274\n",
       "85 2022-09-01 00:00:00+00:00   5353\n",
       "86 2022-10-01 00:00:00+00:00   5397\n",
       "\n",
       "[87 rows x 2 columns]"
      ]
     },
     "execution_count": 146,
     "metadata": {},
     "output_type": "execute_result"
    }
   ],
   "source": [
    "import seaborn as sns\n",
    "\n",
    "published_month_df = (\n",
    "    df_gan.published_month\n",
    "    .value_counts()\n",
    "    .sort_index()\n",
    "    .rename('count')\n",
    "    .cumsum()\n",
    "    .reset_index()\n",
    "    .rename(columns={'index': 'month'})\n",
    ")\n",
    "published_month_df"
   ]
  },
  {
   "cell_type": "code",
   "execution_count": 147,
   "id": "31dd22cd",
   "metadata": {},
   "outputs": [
    {
     "name": "stdout",
     "output_type": "stream",
     "text": [
      "<class 'pandas.core.frame.DataFrame'>\n",
      "RangeIndex: 87 entries, 0 to 86\n",
      "Data columns (total 2 columns):\n",
      " #   Column  Non-Null Count  Dtype              \n",
      "---  ------  --------------  -----              \n",
      " 0   month   87 non-null     datetime64[ns, UTC]\n",
      " 1   count   87 non-null     int64              \n",
      "dtypes: datetime64[ns, UTC](1), int64(1)\n",
      "memory usage: 1.5 KB\n"
     ]
    }
   ],
   "source": [
    "published_month_df.info()"
   ]
  },
  {
   "cell_type": "code",
   "execution_count": 171,
   "id": "062fbf75",
   "metadata": {},
   "outputs": [
    {
     "data": {
      "image/png": "[encoded data removed]",
      "text/plain": [
       "<Figure size 640x480 with 1 Axes>"
      ]
     },
     "metadata": {
      "image/png": {
       "height": 450,
       "width": 580
      }
     },
     "output_type": "display_data"
    }
   ],
   "source": [
    "\n",
    "sns.lineplot(data=published_month_df, x='month', y='count', drawstyle='steps', fillstyle='bottom')\n",
    "plt.xlim([dt.date(2014, 1, 1), dt.date(2022, 9, 1)])\n",
    "plt.title('Count of arXiv papers with GAN in title/abstract')\n",
    "plt.gca().yaxis.set_major_formatter('{x:,.0f}')\n",
    "sns.set_context('paper')\n",
    "sns.set_style('darkgrid')"
   ]
  },
  {
   "cell_type": "code",
   "execution_count": 173,
   "id": "50ef6487",
   "metadata": {},
   "outputs": [
    {
     "data": {
      "text/plain": [
       "published_year\n",
       "2009-01-01 00:00:00+00:00       7\n",
       "2013-01-01 00:00:00+00:00       1\n",
       "2014-01-01 00:00:00+00:00       1\n",
       "2015-01-01 00:00:00+00:00       5\n",
       "2016-01-01 00:00:00+00:00      52\n",
       "2017-01-01 00:00:00+00:00     359\n",
       "2018-01-01 00:00:00+00:00     747\n",
       "2019-01-01 00:00:00+00:00     989\n",
       "2020-01-01 00:00:00+00:00    1134\n",
       "2021-01-01 00:00:00+00:00    1238\n",
       "2022-01-01 00:00:00+00:00     864\n",
       "dtype: int64"
      ]
     },
     "execution_count": 173,
     "metadata": {},
     "output_type": "execute_result"
    }
   ],
   "source": [
    "df_gan.groupby('published_year').size()"
   ]
  }
 ],
 "metadata": {
  "kernelspec": {
   "display_name": "collegium",
   "language": "python",
   "name": "collegium"
  },
  "language_info": {
   "codemirror_mode": {
    "name": "ipython",
    "version": 3
   },
   "file_extension": ".py",
   "mimetype": "text/x-python",
   "name": "python",
   "nbconvert_exporter": "python",
   "pygments_lexer": "ipython3",
   "version": "3.10.8"
  }
 },
 "nbformat": 4,
 "nbformat_minor": 5
}
